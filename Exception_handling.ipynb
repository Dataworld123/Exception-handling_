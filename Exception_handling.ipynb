{
 "cells": [
  {
   "cell_type": "code",
   "execution_count": null,
   "id": "3493b5ec-974e-46ee-b778-b232e93f281f",
   "metadata": {},
   "outputs": [],
   "source": [
    "Q1.what is an Exception in python? Write the differen, between Exceptions and syntax  errors."
   ]
  },
  {
   "cell_type": "code",
   "execution_count": null,
   "id": "d4a3c122-0a00-4250-88a4-905f04928f1d",
   "metadata": {},
   "outputs": [],
   "source": [
    "An exception in Python is an event that occurs during the execution of a program that disrupts the normal flow of instructions. When an exception occurs, it interrupts the current process and transfers control to the exception handler.\n",
    "\n",
    " There are three types of exceptions in Python:\n",
    "\n",
    "Syntax errors: These occur when the Python interpreter encounters an error in the code's syntax, such as a typo or missing parentheses.\n",
    "\n",
    "Logical errors: These occur when the program runs without error, but it doesn't produce the expected output due to a mistake in the logic or algorithm.\n",
    "\n",
    "Runtime errors: These occur during the execution of a program, such as when the program tries to divide a number by zero, access a non-existent file, or use an uninitialized variable."
   ]
  },
  {
   "cell_type": "code",
   "execution_count": null,
   "id": "35630f7e-787b-4c9a-8cd8-ba9b8d16464a",
   "metadata": {},
   "outputs": [],
   "source": [
    "Q2.. What happens when Exception is not handle? Explain with an example."
   ]
  },
  {
   "cell_type": "code",
   "execution_count": null,
   "id": "e335f1b8-2a76-4b32-966b-d1a3aa2c088e",
   "metadata": {},
   "outputs": [],
   "source": [
    "When an exception occurs in a Python program and is not handled by the program, it results in the program terminating with an error message.\n",
    "\n",
    "For example:\n",
    "\n",
    "try:\n",
    "    num1 = int(input(\"Enter a number: \"))\n",
    "    num2 = int(input(\"Enter another number: \"))\n",
    "    result = num1 / num2\n",
    "    print(result)\n",
    "except ValueError:\n",
    "    \n",
    "    print(\"Please enter a valid integer.\")\n",
    "    \n",
    "    \n",
    "In this code, the program prompts the user to enter two numbers and divides the first number by the second number. \n",
    "If the user enters a non-integer value, the program will catch the ValueError exception and print an error message."
   ]
  },
  {
   "cell_type": "code",
   "execution_count": null,
   "id": "a3596486-442e-4d04-a08f-e34c76c02da6",
   "metadata": {},
   "outputs": [],
   "source": [
    "Q3. Which Python statements are used to catch and handle exceptions? Explain with an example."
   ]
  },
  {
   "cell_type": "code",
   "execution_count": null,
   "id": "ac97a3a2-db0a-4c38-b478-73cfbf6acb2a",
   "metadata": {},
   "outputs": [],
   "source": [
    "In Python, the try-except statement is used to catch and handle exceptions. The general syntax for the try-except statement is as follows:\n",
    "\n",
    "\n",
    "try:\n",
    "  \n",
    "except ExceptionType:\n",
    "   \n",
    "In this syntax, the code block inside the try statement is executed, and if an exception occurs,\n",
    "the code block inside the corresponding except statement is executed to handle the exception.\n",
    "\n",
    "Here's an example of how to use the try-except statement to handle a division by zero exception:\n",
    "\n",
    "\n",
    "try:\n",
    "    num1 = int(input(\"Enter a number: \"))\n",
    "    num2 = int(input(\"Enter another number: \"))\n",
    "    result = num1 / num2\n",
    "    print(result)\n",
    "except ZeroDivisionError:\n",
    "    print(\"You cannot divide by zero.\")\n"
   ]
  },
  {
   "cell_type": "code",
   "execution_count": null,
   "id": "4eed81f9-2bfa-4aee-b8e8-a083e377ee94",
   "metadata": {},
   "outputs": [],
   "source": [
    "Q4.\n",
    "a.  Try an else"
   ]
  },
  {
   "cell_type": "code",
   "execution_count": null,
   "id": "d5be7470-7a3f-451c-bb88-e4fe64a059ee",
   "metadata": {},
   "outputs": [],
   "source": [
    "try and else are control flow statements in Python used to handle exceptions and execute code when there is no exception.\n",
    "\n",
    "The try statement is used to wrap a block of code that might raise an exception. If an exception occurs within the try block, \n",
    "it is caught, and the code within the corresponding except block is executed. If no exception occurs, the code within the else block is executed."
   ]
  },
  {
   "cell_type": "code",
   "execution_count": null,
   "id": "9f5aa778-577a-4d06-89fb-08c563e89aa2",
   "metadata": {},
   "outputs": [],
   "source": [
    "b. finally"
   ]
  },
  {
   "cell_type": "code",
   "execution_count": null,
   "id": "069ac589-5481-4fc7-948a-8d867e2282d4",
   "metadata": {},
   "outputs": [],
   "source": [
    "finally is a control flow statement in Python used to define a block of code that should be executed regardless of whether an exception is raised or not.\n",
    "\n"
   ]
  },
  {
   "cell_type": "code",
   "execution_count": null,
   "id": "d26b3b3e-99dd-4a91-a483-737162f686f4",
   "metadata": {},
   "outputs": [],
   "source": [
    "c. raise"
   ]
  },
  {
   "cell_type": "code",
   "execution_count": null,
   "id": "9456fe76-efe5-428e-bf1f-6de0cfeae80e",
   "metadata": {},
   "outputs": [],
   "source": [
    "In Python, the raise keyword is used to raise an exception. It is often used in combination with the try and except statements to handle exceptions."
   ]
  },
  {
   "cell_type": "code",
   "execution_count": null,
   "id": "418bb6a6-45c2-4ed0-bdaa-05431fa3c6a0",
   "metadata": {},
   "outputs": [],
   "source": [
    " 5. What are Custom Exceptions in python? Why do we need Custom Exceptions? Explain with an exmple."
   ]
  },
  {
   "cell_type": "code",
   "execution_count": null,
   "id": "4c9c7f5b-4907-4f8e-8e23-eebb23d1d102",
   "metadata": {},
   "outputs": [],
   "source": [
    "Custom exceptions in Python are exceptions that you define yourself, by creating a new class that inherits from the built-in Exception class or one of its subclasses.\n",
    "\n",
    "We use custom exceptions to handle errors or exceptional conditions that are specific to our application or module. By defining our own exception classes,\n",
    "we can provide more informative error messages, or handle errors in a way that is more specific to our use case\n",
    "\n",
    "\n",
    "class CustomException(Exception):\n",
    "    def __init__(self, message):\n",
    "        self.message = message\n",
    "\n",
    "def divide(a, b):\n",
    "    if b == 0:\n",
    "        raise CustomException(\"Cannot divide by zero\")\n",
    "    return a / b\n",
    "\n",
    "try:\n",
    "    result = divide(10, 0)\n",
    "    print(result)\n",
    "except CustomException as e:\n",
    "    print(\"Error:\", e.message)\n"
   ]
  },
  {
   "cell_type": "code",
   "execution_count": null,
   "id": "44d47a6e-7a61-4fe6-8c6f-49414cac6491",
   "metadata": {},
   "outputs": [],
   "source": [
    "Q6. Create custom exception class. Use this class to handle an exception."
   ]
  }
 ],
 "metadata": {
  "kernelspec": {
   "display_name": "Python 3 (ipykernel)",
   "language": "python",
   "name": "python3"
  },
  "language_info": {
   "codemirror_mode": {
    "name": "ipython",
    "version": 3
   },
   "file_extension": ".py",
   "mimetype": "text/x-python",
   "name": "python",
   "nbconvert_exporter": "python",
   "pygments_lexer": "ipython3",
   "version": "3.10.8"
  }
 },
 "nbformat": 4,
 "nbformat_minor": 5
}
